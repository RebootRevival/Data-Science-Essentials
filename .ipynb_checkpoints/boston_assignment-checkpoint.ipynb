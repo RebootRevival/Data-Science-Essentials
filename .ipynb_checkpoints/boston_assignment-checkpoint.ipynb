{
 "cells": [
  {
   "cell_type": "markdown",
   "metadata": {},
   "source": [
    "## Boston Housing Assignment\n",
    "\n",
    "In this assignment you'll be using linear regression to estimate the cost of house in boston, using a well known dataset.\n",
    "\n",
    "Goals:\n",
    "+  Measure the performance of the model I created using $R^{2}$ and MSE\n",
    "> Learn how to use sklearn.metrics.r2_score and sklearn.metrics.mean_squared_error\n",
    "+  Implement a new model using L2 regularization\n",
    "> Use sklearn.linear_model.Ridge or sklearn.linear_model.Lasso \n",
    "+  Get the best model you can by optimizing the regularization parameter.   "
   ]
  },
  {
   "cell_type": "code",
   "execution_count": 1,
   "metadata": {
    "collapsed": false
   },
   "outputs": [],
   "source": [
    "from sklearn import datasets\n",
    "import pandas as pd\n",
    "from sklearn.preprocessing import StandardScaler\n",
    "from sklearn.cross_validation import train_test_split\n",
    "from sklearn.metrics import mean_squared_error\n",
    "from sklearn.metrics import r2_score\n",
    "from sklearn.linear_model import LinearRegression"
   ]
  },
  {
   "cell_type": "code",
   "execution_count": 2,
   "metadata": {
    "collapsed": false
   },
   "outputs": [
    {
     "name": "stdout",
     "output_type": "stream",
     "text": [
      "Boston House Prices dataset\n",
      "\n",
      "Notes\n",
      "------\n",
      "Data Set Characteristics:  \n",
      "\n",
      "    :Number of Instances: 506 \n",
      "\n",
      "    :Number of Attributes: 13 numeric/categorical predictive\n",
      "    \n",
      "    :Median Value (attribute 14) is usually the target\n",
      "\n",
      "    :Attribute Information (in order):\n",
      "        - CRIM     per capita crime rate by town\n",
      "        - ZN       proportion of residential land zoned for lots over 25,000 sq.ft.\n",
      "        - INDUS    proportion of non-retail business acres per town\n",
      "        - CHAS     Charles River dummy variable (= 1 if tract bounds river; 0 otherwise)\n",
      "        - NOX      nitric oxides concentration (parts per 10 million)\n",
      "        - RM       average number of rooms per dwelling\n",
      "        - AGE      proportion of owner-occupied units built prior to 1940\n",
      "        - DIS      weighted distances to five Boston employment centres\n",
      "        - RAD      index of accessibility to radial highways\n",
      "        - TAX      full-value property-tax rate per $10,000\n",
      "        - PTRATIO  pupil-teacher ratio by town\n",
      "        - B        1000(Bk - 0.63)^2 where Bk is the proportion of blacks by town\n",
      "        - LSTAT    % lower status of the population\n",
      "        - MEDV     Median value of owner-occupied homes in $1000's\n",
      "\n",
      "    :Missing Attribute Values: None\n",
      "\n",
      "    :Creator: Harrison, D. and Rubinfeld, D.L.\n",
      "\n",
      "This is a copy of UCI ML housing dataset.\n",
      "http://archive.ics.uci.edu/ml/datasets/Housing\n",
      "\n",
      "\n",
      "This dataset was taken from the StatLib library which is maintained at Carnegie Mellon University.\n",
      "\n",
      "The Boston house-price data of Harrison, D. and Rubinfeld, D.L. 'Hedonic\n",
      "prices and the demand for clean air', J. Environ. Economics & Management,\n",
      "vol.5, 81-102, 1978.   Used in Belsley, Kuh & Welsch, 'Regression diagnostics\n",
      "...', Wiley, 1980.   N.B. Various transformations are used in the table on\n",
      "pages 244-261 of the latter.\n",
      "\n",
      "The Boston house-price data has been used in many machine learning papers that address regression\n",
      "problems.   \n",
      "     \n",
      "**References**\n",
      "\n",
      "   - Belsley, Kuh & Welsch, 'Regression diagnostics: Identifying Influential Data and Sources of Collinearity', Wiley, 1980. 244-261.\n",
      "   - Quinlan,R. (1993). Combining Instance-Based and Model-Based Learning. In Proceedings on the Tenth International Conference of Machine Learning, 236-243, University of Massachusetts, Amherst. Morgan Kaufmann.\n",
      "   - many more! (see http://archive.ics.uci.edu/ml/datasets/Housing)\n",
      "\n"
     ]
    }
   ],
   "source": [
    "bean = datasets.load_boston()\n",
    "print bean.DESCR"
   ]
  },
  {
   "cell_type": "code",
   "execution_count": 3,
   "metadata": {
    "collapsed": false
   },
   "outputs": [],
   "source": [
    "def load_boston():\n",
    "    scaler = StandardScaler()\n",
    "    boston = datasets.load_boston()\n",
    "    X=boston.data\n",
    "    y=boston.target\n",
    "    X = scaler.fit_transform(X)\n",
    "    return train_test_split(X,y)\n",
    "    "
   ]
  },
  {
   "cell_type": "code",
   "execution_count": 4,
   "metadata": {
    "collapsed": false
   },
   "outputs": [],
   "source": [
    "X_train, X_test, y_train, y_test = load_boston()"
   ]
  },
  {
   "cell_type": "code",
   "execution_count": 5,
   "metadata": {
    "collapsed": false
   },
   "outputs": [
    {
     "data": {
      "text/plain": [
       "(379L, 13L)"
      ]
     },
     "execution_count": 5,
     "metadata": {},
     "output_type": "execute_result"
    }
   ],
   "source": [
    "X_train.shape"
   ]
  },
  {
   "cell_type": "markdown",
   "metadata": {},
   "source": [
    "### Fitting a Linear Regression\n",
    "\n",
    "It's as easy as instantiating a new regression object (line 1) and giving your regression object your training data\n",
    "(line 2) by calling .fit(independent variables, dependent variable)\n",
    "\n"
   ]
  },
  {
   "cell_type": "code",
   "execution_count": 6,
   "metadata": {
    "collapsed": false
   },
   "outputs": [
    {
     "data": {
      "text/plain": [
       "LinearRegression(copy_X=True, fit_intercept=True, n_jobs=1, normalize=False)"
      ]
     },
     "execution_count": 6,
     "metadata": {},
     "output_type": "execute_result"
    }
   ],
   "source": [
    "clf = LinearRegression()\n",
    "clf.fit(X_train, y_train)"
   ]
  },
  {
   "cell_type": "markdown",
   "metadata": {},
   "source": [
    "### Making a Prediction\n",
    "X_test is our holdout set of data.  We know the answer (y_test) but the computer does not.   \n",
    "\n",
    "Using the command below, I create a tuple for each observation, where I'm combining the real value (y_test) with\n",
    "the value our regressor predicts (clf.predict(X_test))\n",
    "\n",
    "Use a similiar format to get your r2 and mse metrics working.  Using the [scikit learn api](http://scikit-learn.org/stable/modules/model_evaluation.html) if you need help!"
   ]
  },
  {
   "cell_type": "code",
   "execution_count": 7,
   "metadata": {
    "collapsed": false
   },
   "outputs": [
    {
     "data": {
      "text/plain": [
       "[(16.199999999999999, 14.934111473561986),\n",
       " (18.5, 19.322066513247371),\n",
       " (18.199999999999999, 19.089616349443425),\n",
       " (29.600000000000001, 25.178325080974297),\n",
       " (35.100000000000001, 35.307831002685944),\n",
       " (15.0, 18.801808788235789),\n",
       " (23.199999999999999, 18.233997910079196),\n",
       " (23.100000000000001, 10.317583496596818),\n",
       " (24.399999999999999, 23.602938054922429),\n",
       " (17.100000000000001, 20.084666734900395),\n",
       " (23.300000000000001, 28.431228608747467),\n",
       " (12.300000000000001, 13.981159147899476),\n",
       " (14.800000000000001, 14.495524088419224),\n",
       " (20.899999999999999, 21.15639158922442),\n",
       " (45.399999999999999, 38.514628576872639),\n",
       " (14.199999999999999, 18.633914255735554),\n",
       " (10.4, 6.8167075602965621),\n",
       " (22.199999999999999, 19.56951305094886),\n",
       " (7.0, 8.8219284906517874),\n",
       " (26.199999999999999, 24.402001872851635),\n",
       " (14.4, 9.0851904118948088),\n",
       " (22.100000000000001, 26.846428067516008),\n",
       " (25.100000000000001, 31.143980653341067),\n",
       " (33.100000000000001, 35.702393069004252),\n",
       " (13.6, 12.512582643514264),\n",
       " (21.399999999999999, 24.260948924540575),\n",
       " (12.699999999999999, 18.549080077753249),\n",
       " (17.800000000000001, 9.3721901378357479),\n",
       " (34.899999999999999, 30.479163806459653),\n",
       " (13.199999999999999, 8.8304482081679936),\n",
       " (15.6, 11.794579090719102),\n",
       " (32.399999999999999, 36.95453324715907),\n",
       " (18.5, 25.550599933068774),\n",
       " (22.199999999999999, 24.015660417076344),\n",
       " (34.600000000000001, 34.666864686742784),\n",
       " (22.199999999999999, 25.989651349963083),\n",
       " (18.899999999999999, 16.015460196562131),\n",
       " (20.0, 17.775242790978854),\n",
       " (35.399999999999999, 30.738629164386307),\n",
       " (35.200000000000003, 36.322942383592533),\n",
       " (19.600000000000001, 17.596849758303819),\n",
       " (8.5, 17.134659501788327),\n",
       " (30.100000000000001, 24.219495525185625),\n",
       " (13.9, 13.108275022179924),\n",
       " (15.4, 18.792783665021375),\n",
       " (21.0, 23.349085761707759),\n",
       " (32.5, 30.600911366699265),\n",
       " (24.100000000000001, 29.277617744171025),\n",
       " (27.5, 33.291443316559437),\n",
       " (22.5, 29.161435358521729),\n",
       " (14.9, 17.658067371822188),\n",
       " (50.0, 42.759702549402093),\n",
       " (33.399999999999999, 28.613843220885819),\n",
       " (22.600000000000001, 19.945151418014916),\n",
       " (23.899999999999999, 27.169019698332907),\n",
       " (13.4, 13.237424962729463),\n",
       " (26.5, 26.03419096806677),\n",
       " (22.5, 22.467777984371516),\n",
       " (31.0, 34.252040324077207),\n",
       " (19.600000000000001, 19.026634463575881),\n",
       " (11.5, 14.974351681127823),\n",
       " (33.799999999999997, 34.672071928836004),\n",
       " (23.199999999999999, 26.834122387439329),\n",
       " (18.699999999999999, 17.668551544153996),\n",
       " (21.5, 20.160158468901447),\n",
       " (10.199999999999999, 16.324110002007149),\n",
       " (23.0, 23.862085011280044),\n",
       " (50.0, 40.873018631603117),\n",
       " (16.100000000000001, 19.409680559775239),\n",
       " (48.799999999999997, 40.770266533544145),\n",
       " (41.700000000000003, 38.131271051965172),\n",
       " (22.0, 29.125684971500633),\n",
       " (23.199999999999999, 23.465097923226491),\n",
       " (13.4, 16.325746804312494),\n",
       " (22.600000000000001, 25.400933811782362),\n",
       " (19.800000000000001, 18.351486001147123),\n",
       " (30.300000000000001, 32.588045530217435),\n",
       " (22.0, 27.36244337091204),\n",
       " (22.300000000000001, 26.894206420783945),\n",
       " (18.800000000000001, 18.958902988077551),\n",
       " (20.0, 23.056278508584498),\n",
       " (19.899999999999999, 21.09506392047351),\n",
       " (37.299999999999997, 34.095040796965549),\n",
       " (42.299999999999997, 37.353913079011917),\n",
       " (15.199999999999999, 20.155348962339982),\n",
       " (33.299999999999997, 36.059859792014876),\n",
       " (11.300000000000001, 14.285661071284473),\n",
       " (20.300000000000001, 22.787248280903185),\n",
       " (17.0, 22.603024675570303),\n",
       " (20.600000000000001, 22.044572148713314),\n",
       " (19.399999999999999, 23.05165261342286),\n",
       " (24.800000000000001, 25.295085711243843),\n",
       " (19.0, 14.250015321653249),\n",
       " (14.1, 18.80757401404863),\n",
       " (8.3000000000000007, 13.356357300816292),\n",
       " (16.5, 22.809986085732696),\n",
       " (16.699999999999999, 21.516533649176832),\n",
       " (10.9, 19.271224086465224),\n",
       " (19.399999999999999, 23.293377692158082),\n",
       " (22.699999999999999, 24.181527466872328),\n",
       " (22.5, 17.721390267976115),\n",
       " (17.800000000000001, 16.310191659931668),\n",
       " (50.0, 36.544538045868457),\n",
       " (14.5, 17.798873331152439),\n",
       " (19.800000000000001, 22.556070727056479),\n",
       " (18.5, 13.419143544981802),\n",
       " (13.9, 18.615259724833241),\n",
       " (20.100000000000001, 23.63246804160562),\n",
       " (34.700000000000003, 30.312215837626432),\n",
       " (13.5, 13.403488900429098),\n",
       " (21.899999999999999, 39.359384941829845),\n",
       " (23.300000000000001, 24.660414347375962),\n",
       " (21.0, 20.805798880572823),\n",
       " (13.1, 14.184660893925267),\n",
       " (13.6, 14.352514933760677),\n",
       " (23.800000000000001, 25.21469328186814),\n",
       " (23.100000000000001, 24.901546604990266),\n",
       " (24.800000000000001, 26.852511406162385),\n",
       " (19.300000000000001, 21.360623094293533),\n",
       " (50.0, 36.071332594647146),\n",
       " (14.5, 13.804784990140487),\n",
       " (21.899999999999999, 15.958022659706765),\n",
       " (20.199999999999999, 23.043255400897706),\n",
       " (20.899999999999999, 21.50525874931742),\n",
       " (14.1, 18.233630897590601),\n",
       " (8.8000000000000007, 4.4421512846270765),\n",
       " (12.5, 20.24719996859519)]"
      ]
     },
     "execution_count": 7,
     "metadata": {},
     "output_type": "execute_result"
    }
   ],
   "source": [
    "zip (y_test, clf.predict(X_test))"
   ]
  },
  {
   "cell_type": "markdown",
   "metadata": {
    "collapsed": false
   },
   "source": [
    "Assignment \n",
    "\n",
    "1.  Impliment scikit learn's r2 and mse methods to measure the performance of my linear regressor.\n",
    "\n",
    "2.  Impliment either sklearn.linear_model.Ridge or sklearn.linear_model.Lasso.\n",
    "\n",
    "3.  Optimize (by reviewing the r2 and mse scores and adjusting the regularization paramater) the regression model you pick.\n",
    "\n",
    "\n",
    "I found this to be useful.  \n",
    "\n",
    "http://scikit-learn.org/stable/modules/classes.html#module-sklearn.linear_model"
   ]
  },
  {
   "cell_type": "code",
   "execution_count": 26,
   "metadata": {
    "collapsed": true
   },
   "outputs": [],
   "source": [
    "import math\n",
    "from sklearn.linear_model import Ridge\n",
    "from sklearn.linear_model import RidgeCV\n"
   ]
  },
  {
   "cell_type": "code",
   "execution_count": 11,
   "metadata": {
    "collapsed": false
   },
   "outputs": [
    {
     "name": "stdout",
     "output_type": "stream",
     "text": [
      "Your Linear Regressor R2:  0.744962114957\n",
      "Your Linear Regressor MSE:  21.882568998\n",
      "Your Linear Regressor RMSE:  4.67788082341\n"
     ]
    }
   ],
   "source": [
    "print 'Your Linear Regressor R2: ', r2_score(y_test, clf.predict(X_test))\n",
    "print 'Your Linear Regressor MSE: ', mean_squared_error(y_test, clf.predict(X_test))\n",
    "print 'Your Linear Regressor RMSE: ', math.sqrt(mean_squared_error(y_test, clf.predict(X_test)))"
   ]
  },
  {
   "cell_type": "code",
   "execution_count": 106,
   "metadata": {
    "collapsed": false
   },
   "outputs": [
    {
     "data": {
      "text/plain": [
       "RidgeCV(alphas=[0.1, 0.4, 0.8, 1, 4, 8, 10], cv=None, fit_intercept=True,\n",
       "    gcv_mode=None, normalize=False, scoring=None, store_cv_values=False)"
      ]
     },
     "execution_count": 106,
     "metadata": {},
     "output_type": "execute_result"
    }
   ],
   "source": [
    "clf_rcv = RidgeCV(alphas=[.1, .4, .8, 1, 4, 8, 10])\n",
    "clf_rcv.fit(X_train, y_train)"
   ]
  },
  {
   "cell_type": "code",
   "execution_count": 107,
   "metadata": {
    "collapsed": false
   },
   "outputs": [
    {
     "data": {
      "text/plain": [
       "8.0"
      ]
     },
     "execution_count": 107,
     "metadata": {},
     "output_type": "execute_result"
    }
   ],
   "source": [
    "clf_rcv.alpha_"
   ]
  },
  {
   "cell_type": "code",
   "execution_count": 108,
   "metadata": {
    "collapsed": false
   },
   "outputs": [
    {
     "data": {
      "text/plain": [
       "Ridge(alpha=8, copy_X=True, fit_intercept=True, max_iter=None,\n",
       "   normalize=False, random_state=None, solver='auto', tol=0.001)"
      ]
     },
     "execution_count": 108,
     "metadata": {},
     "output_type": "execute_result"
    }
   ],
   "source": [
    "clf_r = Ridge(alpha=8)\n",
    "clf_r.fit(X_train, y_train)"
   ]
  },
  {
   "cell_type": "code",
   "execution_count": 109,
   "metadata": {
    "collapsed": false
   },
   "outputs": [
    {
     "name": "stdout",
     "output_type": "stream",
     "text": [
      "My Ridge r2:  0.744142926454\n",
      "My Ridge MSE:  21.9528563945\n",
      "My Ridge RMSE:  4.68538753941\n"
     ]
    }
   ],
   "source": [
    "print 'My Ridge r2: ', r2_score(y_test, clf_r.predict(X_test))\n",
    "print 'My Ridge MSE: ', mean_squared_error(y_test, clf_r.predict(X_test))\n",
    "print 'My Ridge RMSE: ', math.sqrt(mean_squared_error(y_test, clf_r.predict(X_test)))"
   ]
  },
  {
   "cell_type": "code",
   "execution_count": null,
   "metadata": {
    "collapsed": true
   },
   "outputs": [],
   "source": []
  }
 ],
 "metadata": {
  "kernelspec": {
   "display_name": "Python 2",
   "language": "python",
   "name": "python2"
  },
  "language_info": {
   "codemirror_mode": {
    "name": "ipython",
    "version": 2
   },
   "file_extension": ".py",
   "mimetype": "text/x-python",
   "name": "python",
   "nbconvert_exporter": "python",
   "pygments_lexer": "ipython2",
   "version": "2.7.11"
  }
 },
 "nbformat": 4,
 "nbformat_minor": 0
}
